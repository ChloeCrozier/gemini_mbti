{
  "cells": [
    {
      "cell_type": "code",
      "execution_count": 1,
      "metadata": {
        "colab": {
          "base_uri": "https://localhost:8080/"
        },
        "collapsed": true,
        "id": "X7pwtxf9Fdda",
        "outputId": "16ac1000-ebee-4a71-f74e-01c8bdcd95ef"
      },
      "outputs": [
        {
          "name": "stdout",
          "output_type": "stream",
          "text": [
            "Requirement already satisfied: transformers in /usr/local/lib/python3.10/dist-packages (4.44.2)\n",
            "Requirement already satisfied: filelock in /usr/local/lib/python3.10/dist-packages (from transformers) (3.16.1)\n",
            "Requirement already satisfied: huggingface-hub<1.0,>=0.23.2 in /usr/local/lib/python3.10/dist-packages (from transformers) (0.24.7)\n",
            "Requirement already satisfied: numpy>=1.17 in /usr/local/lib/python3.10/dist-packages (from transformers) (1.26.4)\n",
            "Requirement already satisfied: packaging>=20.0 in /usr/local/lib/python3.10/dist-packages (from transformers) (24.1)\n",
            "Requirement already satisfied: pyyaml>=5.1 in /usr/local/lib/python3.10/dist-packages (from transformers) (6.0.2)\n",
            "Requirement already satisfied: regex!=2019.12.17 in /usr/local/lib/python3.10/dist-packages (from transformers) (2024.9.11)\n",
            "Requirement already satisfied: requests in /usr/local/lib/python3.10/dist-packages (from transformers) (2.32.3)\n",
            "Requirement already satisfied: safetensors>=0.4.1 in /usr/local/lib/python3.10/dist-packages (from transformers) (0.4.5)\n",
            "Requirement already satisfied: tokenizers<0.20,>=0.19 in /usr/local/lib/python3.10/dist-packages (from transformers) (0.19.1)\n",
            "Requirement already satisfied: tqdm>=4.27 in /usr/local/lib/python3.10/dist-packages (from transformers) (4.66.5)\n",
            "Requirement already satisfied: fsspec>=2023.5.0 in /usr/local/lib/python3.10/dist-packages (from huggingface-hub<1.0,>=0.23.2->transformers) (2024.6.1)\n",
            "Requirement already satisfied: typing-extensions>=3.7.4.3 in /usr/local/lib/python3.10/dist-packages (from huggingface-hub<1.0,>=0.23.2->transformers) (4.12.2)\n",
            "Requirement already satisfied: charset-normalizer<4,>=2 in /usr/local/lib/python3.10/dist-packages (from requests->transformers) (3.3.2)\n",
            "Requirement already satisfied: idna<4,>=2.5 in /usr/local/lib/python3.10/dist-packages (from requests->transformers) (3.10)\n",
            "Requirement already satisfied: urllib3<3,>=1.21.1 in /usr/local/lib/python3.10/dist-packages (from requests->transformers) (2.2.3)\n",
            "Requirement already satisfied: certifi>=2017.4.17 in /usr/local/lib/python3.10/dist-packages (from requests->transformers) (2024.8.30)\n"
          ]
        }
      ],
      "source": [
        "!pip install transformers"
      ]
    },
    {
      "cell_type": "code",
      "execution_count": 7,
      "metadata": {
        "id": "6CLBa0_ZE4j-"
      },
      "outputs": [],
      "source": [
        "import google.generativeai as genai\n",
        "import os"
      ]
    },
    {
      "cell_type": "markdown",
      "metadata": {
        "id": "9iwxz5qiF-xr"
      },
      "source": [
        "# Set up your API key in [Google AI Studio](https://ai.google.dev/gemini-api?gad_source=1&gclid=Cj0KCQjw05i4BhDiARIsAB_2wfAdC9LZKRZZ9NlzrGQq-KO_G9DMcHPnH9iQmsfxDAP1rjKQO0fCxEMaAhBgEALw_wcB)"
      ]
    },
    {
      "cell_type": "code",
      "execution_count": 8,
      "metadata": {
        "id": "pNU-LGtZFjBY"
      },
      "outputs": [],
      "source": [
        "genai.configure(api_key=\"...\")\n",
        "model = genai.GenerativeModel(\"gemini-1.5-flash\")"
      ]
    },
    {
      "cell_type": "code",
      "execution_count": 16,
      "metadata": {
        "id": "a4DEJ7h7FkCd"
      },
      "outputs": [],
      "source": [
        "prompt = \"What are the mbti personality types? Please give me a short description of each type.\"\n",
        "response = model.generate_content(prompt)"
      ]
    },
    {
      "cell_type": "code",
      "execution_count": 17,
      "metadata": {
        "colab": {
          "base_uri": "https://localhost:8080/"
        },
        "id": "O1xDbxqyHlU-",
        "outputId": "44f9d950-96a0-47db-c7de-563537e594ce"
      },
      "outputs": [
        {
          "name": "stdout",
          "output_type": "stream",
          "text": [
            "response:\n",
            "GenerateContentResponse(\n",
            "    done=True,\n",
            "    iterator=None,\n",
            "    result=protos.GenerateContentResponse({\n",
            "      \"candidates\": [\n",
            "        {\n",
            "          \"content\": {\n",
            "            \"parts\": [\n",
            "              {\n",
            "                \"text\": \"## MBTI Personality Types:\\n\\nThe Myers-Briggs Type Indicator (MBTI) identifies 16 distinct personality types based on four dichotomies:\\n\\n**1. Extraversion (E) vs. Introversion (I)**\\n* **E:** Outgoing, energized by social interaction, enjoys large groups, and focuses on external world.\\n* **I:** Prefers solitude, gains energy from reflection, enjoys small intimate groups, and focuses on internal world.\\n\\n**2. Sensing (S) vs. Intuition (N)**\\n* **S:** Focuses on concrete details, practical, present-oriented, trusts experience, and values facts.\\n* **N:** Focuses on possibilities, abstract ideas, future-oriented, trusts intuition, and values insights.\\n\\n**3. Thinking (T) vs. Feeling (F)**\\n* **T:** Makes decisions based on logic, objective analysis, and impersonal reasoning.\\n* **F:** Makes decisions based on personal values, empathy, and impact on people.\\n\\n**4. Judging (J) vs. Perceiving (P)**\\n* **J:** Prefers structure, organization, and planning, likes things settled, and works ahead of deadlines.\\n* **P:** Prefers spontaneity, flexibility, and open-endedness, enjoys adapting, and works under pressure.\\n\\n**The 16 Personality Types:**\\n\\n**ISTJ:** **The Duty Fulfiller:** Practical, reliable, responsible, and dedicated to duty.\\n**ISFJ:** **The Nurturer:**  Warm, caring, loyal, and supportive of others.\\n**INFJ:** **The Advocate:**  Idealistic, insightful, compassionate, and driven to make a difference.\\n**INTJ:** **The Mastermind:**  Strategic, independent, analytical, and driven to achieve their goals.\\n**ISTP:** **The Craftsman:**  Practical, resourceful, independent, and enjoys problem-solving.\\n**ISFP:** **The Artist:**  Quiet, artistic, sensitive, and prefers to express themselves through their passions.\\n**INFP:** **The Idealist:**  Imaginative, compassionate, idealistic, and seeks meaning and purpose.\\n**INTP:** **The Logician:**  Logical, analytical, independent, and enjoys exploring complex ideas.\\n**ESTP:** **The Entrepreneur:**  Energetic, spontaneous, adaptable, and enjoys taking risks.\\n**ESFP:** **The Entertainer:**  Outgoing, charismatic, enthusiastic, and enjoys being in the spotlight.\\n**ENFP:** **The Campaigner:**  Enthusiastic, imaginative, inspiring, and loves exploring new ideas.\\n**ENTP:** **The Debater:**  Ingenious, innovative, quick-witted, and enjoys challenging the status quo.\\n**ESTJ:** **The Supervisor:**  Practical, organized, efficient, and enjoys taking charge.\\n**ESFJ:** **The Consul:**  Warm, outgoing, helpful, and focused on serving others.\\n**ENFJ:** **The Protagonist:**  Charismatic, empathetic, inspiring, and driven to lead others.\\n**ENTJ:** **The Commander:**  Strategic, confident, driven, and enjoys achieving their ambitious goals.\\n\\n**Please note:** This is a simplified description of each type. It's important to remember that every individual is unique, and the MBTI is just one way to understand personality. \\n\"\n",
            "              }\n",
            "            ],\n",
            "            \"role\": \"model\"\n",
            "          },\n",
            "          \"finish_reason\": \"STOP\",\n",
            "          \"index\": 0,\n",
            "          \"safety_ratings\": [\n",
            "            {\n",
            "              \"category\": \"HARM_CATEGORY_SEXUALLY_EXPLICIT\",\n",
            "              \"probability\": \"NEGLIGIBLE\"\n",
            "            },\n",
            "            {\n",
            "              \"category\": \"HARM_CATEGORY_HATE_SPEECH\",\n",
            "              \"probability\": \"NEGLIGIBLE\"\n",
            "            },\n",
            "            {\n",
            "              \"category\": \"HARM_CATEGORY_HARASSMENT\",\n",
            "              \"probability\": \"NEGLIGIBLE\"\n",
            "            },\n",
            "            {\n",
            "              \"category\": \"HARM_CATEGORY_DANGEROUS_CONTENT\",\n",
            "              \"probability\": \"NEGLIGIBLE\"\n",
            "            }\n",
            "          ]\n",
            "        }\n",
            "      ],\n",
            "      \"usage_metadata\": {\n",
            "        \"prompt_token_count\": 19,\n",
            "        \"candidates_token_count\": 697,\n",
            "        \"total_token_count\": 716\n",
            "      }\n",
            "    }),\n",
            ")\n"
          ]
        }
      ],
      "source": [
        "print(response)"
      ]
    },
    {
      "cell_type": "code",
      "execution_count": 13,
      "metadata": {
        "colab": {
          "base_uri": "https://localhost:8080/"
        },
        "id": "SNYMRN73HRKj",
        "outputId": "9c0304f7-b167-4752-8ef6-df7e4bcf279c"
      },
      "outputs": [
        {
          "name": "stdout",
          "output_type": "stream",
          "text": [
            "## MBTI Personality Types:\n",
            "\n",
            "**Introverted (I) vs. Extroverted (E)**: How you draw energy and interact with the world.\n",
            "\n",
            "**Sensing (S) vs. Intuition (N)**: How you gather and process information.\n",
            "\n",
            "**Thinking (T) vs. Feeling (F)**: How you make decisions.\n",
            "\n",
            "**Judging (J) vs. Perceiving (P)**: How you approach the world and your lifestyle.\n",
            "\n",
            "**Here are the 16 MBTI types with short descriptions:**\n",
            "\n",
            "**Introverted Types:**\n",
            "\n",
            "* **ISTJ (Inspector):** Practical, reliable, and detail-oriented. They enjoy structure and order, valuing tradition and duty.\n",
            "* **ISFJ (Protector):** Warm, caring, and conscientious. They prioritize harmony and loyalty, focusing on the needs of others.\n",
            "* **INFJ (Advocate):** Idealistic, insightful, and compassionate. They seek purpose and meaning in life, striving for harmony and understanding.\n",
            "* **INTJ (Mastermind):** Strategic, independent, and analytical. They value logic and efficiency, seeking knowledge and understanding.\n",
            "* **ISTP (Virtuoso):** Practical, resourceful, and adaptable. They enjoy hands-on experiences and problem-solving, seeking logic and efficiency.\n",
            "* **ISFP (Artist):** Artistic, sensitive, and independent. They value authenticity and beauty, living in the present moment.\n",
            "* **INFP (Mediator):** Idealistic, compassionate, and empathetic. They seek harmony and meaning, valuing authenticity and self-expression.\n",
            "* **INTP (Logician):** Analytical, curious, and independent. They value logic and understanding, seeking knowledge and intellectual stimulation.\n",
            "\n",
            "**Extroverted Types:**\n",
            "\n",
            "* **ESTP (Entrepreneur):** Action-oriented, adaptable, and resourceful. They enjoy new experiences and challenges, seeking excitement and stimulation.\n",
            "* **ESFP (Entertainer):** Spontaneous, outgoing, and enthusiastic. They live in the present moment, valuing experiences and making others feel good.\n",
            "* **ENFP (Campaigner):** Enthusiastic, idealistic, and creative. They seek purpose and meaning in life, valuing authenticity and connection.\n",
            "* **ENTP (Debater):** Curious, inventive, and resourceful. They enjoy challenges and debates, seeking knowledge and understanding.\n",
            "* **ESTJ (Executive):** Practical, organized, and efficient. They value tradition and structure, seeking to achieve results and maintain order.\n",
            "* **ESFJ (Consul):** Warm, loyal, and responsible. They prioritize harmony and the needs of others, seeking to be helpful and supportive.\n",
            "* **ENFJ (Protagonist):** Charismatic, inspiring, and empathetic. They seek to make a difference and inspire others, valuing harmony and understanding.\n",
            "* **ENTJ (Commander):** Strategic, confident, and decisive. They value efficiency and results, seeking to achieve their goals and influence others.\n",
            "\n",
            "**Note:** These descriptions are general and not exhaustive. Individual experiences and personal development can influence how a person embodies their MBTI type. The MBTI is a tool for self-reflection and understanding, not a definitive label. \n",
            "\n"
          ]
        }
      ],
      "source": [
        "print(response.text)"
      ]
    }
  ],
  "metadata": {
    "colab": {
      "provenance": []
    },
    "kernelspec": {
      "display_name": "Python 3",
      "name": "python3"
    },
    "language_info": {
      "name": "python"
    }
  },
  "nbformat": 4,
  "nbformat_minor": 0
}
